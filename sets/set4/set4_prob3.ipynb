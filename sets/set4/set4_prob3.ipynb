{
  "cells": [
    {
      "cell_type": "markdown",
      "metadata": {
        "colab_type": "text",
        "id": "view-in-github"
      },
      "source": [
        "<a href=\"https://colab.research.google.com/github/charlesincharge/Caltech-CS155-2022/blob/main/sets/set4/set4_prob3.ipynb\" target=\"_parent\"><img src=\"https://colab.research.google.com/assets/colab-badge.svg\" alt=\"Open In Colab\"/></a>"
      ]
    },
    {
      "cell_type": "markdown",
      "metadata": {
        "id": "NG2ZYJ8OQkYu"
      },
      "source": [
        "# Problem 3"
      ]
    },
    {
      "cell_type": "markdown",
      "metadata": {
        "id": "Uswwk6-5QkYz"
      },
      "source": [
        "Use this notebook to write your code for problem 3."
      ]
    },
    {
      "cell_type": "code",
      "execution_count": 23,
      "metadata": {
        "id": "mNDH7qAJQkYz"
      },
      "outputs": [],
      "source": [
        "import numpy as np\n",
        "import matplotlib.pyplot as plt\n",
        "%matplotlib inline"
      ]
    },
    {
      "cell_type": "markdown",
      "metadata": {},
      "source": [
        "## Problem A: Zero Padding\n",
        "\n",
        "A benefit of the zero-padding scheme is that it maintains the size of the image. \n",
        "A downside is that it it more computationally expensive."
      ]
    },
    {
      "cell_type": "markdown",
      "metadata": {},
      "source": [
        "## Problem B: Number of parameters in Conv Layer\n",
        "\n",
        "Each filter is 5 x 5 x 3 so it has 5 x 5 x 3 + 1 weights per filter. \n",
        "With 8 filters, the total number of parameters is 76 * 8 = 608 parameters."
      ]
    },
    {
      "cell_type": "markdown",
      "metadata": {},
      "source": [
        "## Problem C: Shape of output tensor\n",
        "\n",
        "\n",
        "The output tensor will be 28 x 28 x 8. "
      ]
    },
    {
      "cell_type": "code",
      "execution_count": 12,
      "metadata": {
        "vscode": {
          "languageId": "latex"
        }
      },
      "outputs": [
        {
          "data": {
            "text/latex": [
              "$\\textbf{Problem D: Apply 2 x 2 average pooling with stride 2}$\n",
              "\n",
              "First: \n",
              "$\n",
              "M=\n",
              "  \\begin{bmatrix}\n",
              "    1 & 0.5 \\\\\n",
              "    0.5 & 0.25\n",
              "  \\end{bmatrix}\n",
              "$, \n",
              "Second: \n",
              "$\n",
              "M=\n",
              "  \\begin{bmatrix}\n",
              "    0.5 & 1 \\\\\n",
              "    0.25 & 0.5\n",
              "  \\end{bmatrix}\n",
              "$\n",
              "Third: \n",
              "$\n",
              "M=\n",
              "  \\begin{bmatrix}\n",
              "    0.25 & 0.5 \\\\\n",
              "    0.5 & 1\n",
              "  \\end{bmatrix}\n",
              "$\n",
              "Four: \n",
              "$\n",
              "M=\n",
              "  \\begin{bmatrix}\n",
              "    0.5 & 0.25 \\\\\n",
              "    1 & 0.5\n",
              "  \\end{bmatrix}\n",
              "$\n"
            ],
            "text/plain": [
              "<IPython.core.display.Latex object>"
            ]
          },
          "metadata": {},
          "output_type": "display_data"
        }
      ],
      "source": [
        "%%latex\n",
        "$\\textbf{Problem D: Apply 2 x 2 average pooling with stride 2}$\n",
        "\n",
        "First: \n",
        "$\n",
        "M=\n",
        "  \\begin{bmatrix}\n",
        "    1 & 0.5 \\\\\n",
        "    0.5 & 0.25\n",
        "  \\end{bmatrix}\n",
        "$, \n",
        "Second: \n",
        "$\n",
        "M=\n",
        "  \\begin{bmatrix}\n",
        "    0.5 & 1 \\\\\n",
        "    0.25 & 0.5\n",
        "  \\end{bmatrix}\n",
        "$\n",
        "Third: \n",
        "$\n",
        "M=\n",
        "  \\begin{bmatrix}\n",
        "    0.25 & 0.5 \\\\\n",
        "    0.5 & 1\n",
        "  \\end{bmatrix}\n",
        "$\n",
        "Four: \n",
        "$\n",
        "M=\n",
        "  \\begin{bmatrix}\n",
        "    0.5 & 0.25 \\\\\n",
        "    1 & 0.5\n",
        "  \\end{bmatrix}\n",
        "$\n"
      ]
    },
    {
      "cell_type": "code",
      "execution_count": 14,
      "metadata": {
        "vscode": {
          "languageId": "latex"
        }
      },
      "outputs": [
        {
          "data": {
            "text/latex": [
              "$\\textbf{Problem E: Apply 2 x 2 max pooling with stride 2}$\n",
              "\n",
              "All of them will be: \n",
              "$\n",
              "M=\n",
              "  \\begin{bmatrix}\n",
              "    1 & 1 \\\\\n",
              "    1 & 1\n",
              "  \\end{bmatrix}\n",
              "$\n"
            ],
            "text/plain": [
              "<IPython.core.display.Latex object>"
            ]
          },
          "metadata": {},
          "output_type": "display_data"
        }
      ],
      "source": [
        "%%latex\n",
        "$\\textbf{Problem E: Apply 2 x 2 max pooling with stride 2}$\n",
        "\n",
        "All of them will be: \n",
        "$\n",
        "M=\n",
        "  \\begin{bmatrix}\n",
        "    1 & 1 \\\\\n",
        "    1 & 1\n",
        "  \\end{bmatrix}\n",
        "$"
      ]
    },
    {
      "cell_type": "markdown",
      "metadata": {},
      "source": [
        "## Problem F:\n",
        "\n",
        "Pooling may be advantageous because it can help prevent overfitting to the noisy data while maintaining translational invariance by taking the average or max of a patch."
      ]
    },
    {
      "cell_type": "markdown",
      "metadata": {
        "id": "yXCTagSFQkY2"
      },
      "source": [
        "## 3D - Convolutional network"
      ]
    },
    {
      "cell_type": "markdown",
      "metadata": {
        "id": "FcYqb7ujQkY2"
      },
      "source": [
        "As in problem 2, we have conveniently provided for your use code that loads and preprocesses the MNIST data."
      ]
    },
    {
      "cell_type": "code",
      "execution_count": 24,
      "metadata": {
        "id": "uTdlcHOmQkY3"
      },
      "outputs": [],
      "source": [
        "# load MNIST data into PyTorch format\n",
        "import torch\n",
        "import torchvision\n",
        "import torchvision.transforms as transforms\n",
        "\n",
        "# set batch size\n",
        "batch_size = 32\n",
        "\n",
        "# load training data downloaded into data/ folder\n",
        "mnist_training_data = torchvision.datasets.MNIST('data/', train=True, download=True,\n",
        "                                                transform=transforms.ToTensor())\n",
        "# transforms.ToTensor() converts batch of images to 4-D tensor and normalizes 0-255 to 0-1.0\n",
        "training_data_loader = torch.utils.data.DataLoader(mnist_training_data,\n",
        "                                                  batch_size=batch_size,\n",
        "                                                  shuffle=True)\n",
        "\n",
        "# load test data\n",
        "mnist_test_data = torchvision.datasets.MNIST('data/', train=False, download=True,\n",
        "                                                transform=transforms.ToTensor())\n",
        "test_data_loader = torch.utils.data.DataLoader(mnist_test_data,\n",
        "                                                  batch_size=batch_size,\n",
        "                                                  shuffle=False)"
      ]
    },
    {
      "cell_type": "code",
      "execution_count": 25,
      "metadata": {
        "id": "Y9RlGiKZQkY4",
        "outputId": "537e8faf-ab10-4e74-e013-dab8e812862d"
      },
      "outputs": [
        {
          "name": "stdout",
          "output_type": "stream",
          "text": [
            "1875 training batches\n",
            "60000 training samples\n",
            "313 validation batches\n"
          ]
        }
      ],
      "source": [
        "# look at the number of batches per epoch for training and validation\n",
        "print(f'{len(training_data_loader)} training batches')\n",
        "print(f'{len(training_data_loader) * batch_size} training samples')\n",
        "print(f'{len(test_data_loader)} validation batches')"
      ]
    },
    {
      "cell_type": "code",
      "execution_count": 174,
      "metadata": {
        "id": "WA8r-bO7QkY5"
      },
      "outputs": [],
      "source": [
        "# sample model\n",
        "import torch.nn as nn\n",
        "\n",
        "model = nn.Sequential(\n",
        "    nn.Conv2d(1, 8, kernel_size=(3,3)),\n",
        "    nn.ReLU(),\n",
        "    nn.MaxPool2d(2),\n",
        "    nn.Dropout(p=0.5),\n",
        "    \n",
        "    nn.Conv2d(8, 8, kernel_size=(3,3)),\n",
        "    nn.ReLU(),\n",
        "    nn.MaxPool2d(2),\n",
        "    nn.Dropout(p=0.5),\n",
        "    \n",
        "    nn.Flatten(),\n",
        "    nn.Linear(25*8, 64),\n",
        "    nn.ReLU(),\n",
        "    nn.Linear(64, 10)\n",
        "    # PyTorch implementation of cross-entropy loss includes softmax layer\n",
        ")"
      ]
    },
    {
      "cell_type": "code",
      "execution_count": 175,
      "metadata": {
        "id": "vypV9oSRQkY7",
        "outputId": "6639c5f8-0740-4053-fa9b-674db4c164e0"
      },
      "outputs": [
        {
          "name": "stdout",
          "output_type": "stream",
          "text": [
            "torch.Size([8, 1, 3, 3])\n",
            "torch.Size([8])\n",
            "torch.Size([8, 8, 3, 3])\n",
            "torch.Size([8])\n",
            "torch.Size([64, 200])\n",
            "torch.Size([64])\n",
            "torch.Size([10, 64])\n",
            "torch.Size([10])\n"
          ]
        }
      ],
      "source": [
        "# why don't we take a look at the shape of the weights for each layer\n",
        "for p in model.parameters():\n",
        "    print(p.data.shape)"
      ]
    },
    {
      "cell_type": "code",
      "execution_count": 176,
      "metadata": {
        "id": "3mHMVuwQQkY7",
        "outputId": "f2ec2d12-87f4-4064-ecfc-f6ace501f6e1"
      },
      "outputs": [
        {
          "name": "stdout",
          "output_type": "stream",
          "text": [
            "total params: 14178\n"
          ]
        }
      ],
      "source": [
        "# our model has some # of parameters:\n",
        "count = 0\n",
        "for p in model.parameters():\n",
        "    n_params = np.prod(list(p.data.shape)).item()\n",
        "    count += n_params\n",
        "print(f'total params: {count}')"
      ]
    },
    {
      "cell_type": "code",
      "execution_count": 177,
      "metadata": {
        "id": "uJhWXEQ0QkY8"
      },
      "outputs": [],
      "source": [
        "# For a multi-class classification problem\n",
        "import torch.optim as optim\n",
        "criterion = nn.CrossEntropyLoss()\n",
        "optimizer = optim.RMSprop(model.parameters())"
      ]
    },
    {
      "cell_type": "code",
      "execution_count": 178,
      "metadata": {
        "id": "w-At3b8DQkY8",
        "outputId": "52722b09-e7e0-4bdc-f3d9-6f093b3e7b1d"
      },
      "outputs": [
        {
          "name": "stdout",
          "output_type": "stream",
          "text": [
            "Epoch 1/10:...........\n",
            "\tloss: 0.7356, acc: 0.7599, val loss: 0.2735, val acc: 0.9252\n",
            "Epoch 2/10:...........\n",
            "\tloss: 0.5097, acc: 0.8373, val loss: 0.2748, val acc: 0.9234\n",
            "Epoch 3/10:..."
          ]
        },
        {
          "ename": "KeyboardInterrupt",
          "evalue": "",
          "output_type": "error",
          "traceback": [
            "\u001b[0;31m---------------------------------------------------------------------------\u001b[0m",
            "\u001b[0;31mKeyboardInterrupt\u001b[0m                         Traceback (most recent call last)",
            "Cell \u001b[0;32mIn[178], line 24\u001b[0m\n\u001b[1;32m     22\u001b[0m loss \u001b[38;5;241m=\u001b[39m criterion(output, labels)\n\u001b[1;32m     23\u001b[0m \u001b[38;5;66;03m# backward pass\u001b[39;00m\n\u001b[0;32m---> 24\u001b[0m \u001b[43mloss\u001b[49m\u001b[38;5;241;43m.\u001b[39;49m\u001b[43mbackward\u001b[49m\u001b[43m(\u001b[49m\u001b[43m)\u001b[49m\n\u001b[1;32m     25\u001b[0m optimizer\u001b[38;5;241m.\u001b[39mstep()\n\u001b[1;32m     27\u001b[0m \u001b[38;5;66;03m# track training accuracy\u001b[39;00m\n",
            "File \u001b[0;32m/opt/homebrew/lib/python3.11/site-packages/torch/_tensor.py:525\u001b[0m, in \u001b[0;36mTensor.backward\u001b[0;34m(self, gradient, retain_graph, create_graph, inputs)\u001b[0m\n\u001b[1;32m    515\u001b[0m \u001b[38;5;28;01mif\u001b[39;00m has_torch_function_unary(\u001b[38;5;28mself\u001b[39m):\n\u001b[1;32m    516\u001b[0m     \u001b[38;5;28;01mreturn\u001b[39;00m handle_torch_function(\n\u001b[1;32m    517\u001b[0m         Tensor\u001b[38;5;241m.\u001b[39mbackward,\n\u001b[1;32m    518\u001b[0m         (\u001b[38;5;28mself\u001b[39m,),\n\u001b[0;32m   (...)\u001b[0m\n\u001b[1;32m    523\u001b[0m         inputs\u001b[38;5;241m=\u001b[39minputs,\n\u001b[1;32m    524\u001b[0m     )\n\u001b[0;32m--> 525\u001b[0m \u001b[43mtorch\u001b[49m\u001b[38;5;241;43m.\u001b[39;49m\u001b[43mautograd\u001b[49m\u001b[38;5;241;43m.\u001b[39;49m\u001b[43mbackward\u001b[49m\u001b[43m(\u001b[49m\n\u001b[1;32m    526\u001b[0m \u001b[43m    \u001b[49m\u001b[38;5;28;43mself\u001b[39;49m\u001b[43m,\u001b[49m\u001b[43m \u001b[49m\u001b[43mgradient\u001b[49m\u001b[43m,\u001b[49m\u001b[43m \u001b[49m\u001b[43mretain_graph\u001b[49m\u001b[43m,\u001b[49m\u001b[43m \u001b[49m\u001b[43mcreate_graph\u001b[49m\u001b[43m,\u001b[49m\u001b[43m \u001b[49m\u001b[43minputs\u001b[49m\u001b[38;5;241;43m=\u001b[39;49m\u001b[43minputs\u001b[49m\n\u001b[1;32m    527\u001b[0m \u001b[43m\u001b[49m\u001b[43m)\u001b[49m\n",
            "File \u001b[0;32m/opt/homebrew/lib/python3.11/site-packages/torch/autograd/__init__.py:267\u001b[0m, in \u001b[0;36mbackward\u001b[0;34m(tensors, grad_tensors, retain_graph, create_graph, grad_variables, inputs)\u001b[0m\n\u001b[1;32m    262\u001b[0m     retain_graph \u001b[38;5;241m=\u001b[39m create_graph\n\u001b[1;32m    264\u001b[0m \u001b[38;5;66;03m# The reason we repeat the same comment below is that\u001b[39;00m\n\u001b[1;32m    265\u001b[0m \u001b[38;5;66;03m# some Python versions print out the first line of a multi-line function\u001b[39;00m\n\u001b[1;32m    266\u001b[0m \u001b[38;5;66;03m# calls in the traceback and some print out the last line\u001b[39;00m\n\u001b[0;32m--> 267\u001b[0m \u001b[43m_engine_run_backward\u001b[49m\u001b[43m(\u001b[49m\n\u001b[1;32m    268\u001b[0m \u001b[43m    \u001b[49m\u001b[43mtensors\u001b[49m\u001b[43m,\u001b[49m\n\u001b[1;32m    269\u001b[0m \u001b[43m    \u001b[49m\u001b[43mgrad_tensors_\u001b[49m\u001b[43m,\u001b[49m\n\u001b[1;32m    270\u001b[0m \u001b[43m    \u001b[49m\u001b[43mretain_graph\u001b[49m\u001b[43m,\u001b[49m\n\u001b[1;32m    271\u001b[0m \u001b[43m    \u001b[49m\u001b[43mcreate_graph\u001b[49m\u001b[43m,\u001b[49m\n\u001b[1;32m    272\u001b[0m \u001b[43m    \u001b[49m\u001b[43minputs\u001b[49m\u001b[43m,\u001b[49m\n\u001b[1;32m    273\u001b[0m \u001b[43m    \u001b[49m\u001b[43mallow_unreachable\u001b[49m\u001b[38;5;241;43m=\u001b[39;49m\u001b[38;5;28;43;01mTrue\u001b[39;49;00m\u001b[43m,\u001b[49m\n\u001b[1;32m    274\u001b[0m \u001b[43m    \u001b[49m\u001b[43maccumulate_grad\u001b[49m\u001b[38;5;241;43m=\u001b[39;49m\u001b[38;5;28;43;01mTrue\u001b[39;49;00m\u001b[43m,\u001b[49m\n\u001b[1;32m    275\u001b[0m \u001b[43m\u001b[49m\u001b[43m)\u001b[49m\n",
            "File \u001b[0;32m/opt/homebrew/lib/python3.11/site-packages/torch/autograd/graph.py:744\u001b[0m, in \u001b[0;36m_engine_run_backward\u001b[0;34m(t_outputs, *args, **kwargs)\u001b[0m\n\u001b[1;32m    742\u001b[0m     unregister_hooks \u001b[38;5;241m=\u001b[39m _register_logging_hooks_on_whole_graph(t_outputs)\n\u001b[1;32m    743\u001b[0m \u001b[38;5;28;01mtry\u001b[39;00m:\n\u001b[0;32m--> 744\u001b[0m     \u001b[38;5;28;01mreturn\u001b[39;00m \u001b[43mVariable\u001b[49m\u001b[38;5;241;43m.\u001b[39;49m\u001b[43m_execution_engine\u001b[49m\u001b[38;5;241;43m.\u001b[39;49m\u001b[43mrun_backward\u001b[49m\u001b[43m(\u001b[49m\u001b[43m  \u001b[49m\u001b[38;5;66;43;03m# Calls into the C++ engine to run the backward pass\u001b[39;49;00m\n\u001b[1;32m    745\u001b[0m \u001b[43m        \u001b[49m\u001b[43mt_outputs\u001b[49m\u001b[43m,\u001b[49m\u001b[43m \u001b[49m\u001b[38;5;241;43m*\u001b[39;49m\u001b[43margs\u001b[49m\u001b[43m,\u001b[49m\u001b[43m \u001b[49m\u001b[38;5;241;43m*\u001b[39;49m\u001b[38;5;241;43m*\u001b[39;49m\u001b[43mkwargs\u001b[49m\n\u001b[1;32m    746\u001b[0m \u001b[43m    \u001b[49m\u001b[43m)\u001b[49m  \u001b[38;5;66;03m# Calls into the C++ engine to run the backward pass\u001b[39;00m\n\u001b[1;32m    747\u001b[0m \u001b[38;5;28;01mfinally\u001b[39;00m:\n\u001b[1;32m    748\u001b[0m     \u001b[38;5;28;01mif\u001b[39;00m attach_logging_hooks:\n",
            "\u001b[0;31mKeyboardInterrupt\u001b[0m: "
          ]
        }
      ],
      "source": [
        "# Train the model for 10 epochs, iterating on the data in batches\n",
        "n_epochs = 10\n",
        "\n",
        "# store metrics\n",
        "training_accuracy_history = np.zeros([n_epochs, 1])\n",
        "training_loss_history = np.zeros([n_epochs, 1])\n",
        "validation_accuracy_history = np.zeros([n_epochs, 1])\n",
        "validation_loss_history = np.zeros([n_epochs, 1])\n",
        "\n",
        "for epoch in range(n_epochs):\n",
        "    print(f'Epoch {epoch+1}/10:', end='')\n",
        "    train_total = 0\n",
        "    train_correct = 0\n",
        "    # train\n",
        "    model.train()\n",
        "    for i, data in enumerate(training_data_loader):\n",
        "        images, labels = data\n",
        "        optimizer.zero_grad()\n",
        "        # forward pass\n",
        "        output = model(images)\n",
        "        # calculate categorical cross entropy loss\n",
        "        loss = criterion(output, labels)\n",
        "        # backward pass\n",
        "        loss.backward()\n",
        "        optimizer.step()\n",
        "        \n",
        "        # track training accuracy\n",
        "        _, predicted = torch.max(output.data, 1)\n",
        "        train_total += labels.size(0)\n",
        "        train_correct += (predicted == labels).sum().item()\n",
        "        # track training loss\n",
        "        training_loss_history[epoch] += loss.item()\n",
        "        # progress update after 180 batches (~1/10 epoch for batch size 32)\n",
        "        if i % 180 == 0: print('.',end='')\n",
        "    training_loss_history[epoch] /= len(training_data_loader)\n",
        "    training_accuracy_history[epoch] = train_correct / train_total\n",
        "    print(f'\\n\\tloss: {training_loss_history[epoch,0]:0.4f}, acc: {training_accuracy_history[epoch,0]:0.4f}',end='')\n",
        "        \n",
        "    # validate\n",
        "    test_total = 0\n",
        "    test_correct = 0\n",
        "    with torch.no_grad():\n",
        "        model.eval()\n",
        "        for i, data in enumerate(test_data_loader):\n",
        "            images, labels = data\n",
        "            # forward pass\n",
        "            output = model(images)\n",
        "            # find accuracy\n",
        "            _, predicted = torch.max(output.data, 1)\n",
        "            test_total += labels.size(0)\n",
        "            test_correct += (predicted == labels).sum().item()\n",
        "            # find loss\n",
        "            loss = criterion(output, labels)\n",
        "            validation_loss_history[epoch] += loss.item()\n",
        "        validation_loss_history[epoch] /= len(test_data_loader)\n",
        "        validation_accuracy_history[epoch] = test_correct / test_total\n",
        "    print(f', val loss: {validation_loss_history[epoch,0]:0.4f}, val acc: {validation_accuracy_history[epoch,0]:0.4f}')"
      ]
    },
    {
      "cell_type": "markdown",
      "metadata": {
        "id": "JPYoKN_8QkY9"
      },
      "source": [
        "Above, we output the training loss/accuracy as well as the validation loss and accuracy. Not bad! Let's see if you can do better."
      ]
    },
    {
      "cell_type": "code",
      "execution_count": 186,
      "metadata": {
        "id": "F_7siE23QkY9"
      },
      "outputs": [],
      "source": [
        "# sample model\n",
        "import torch.nn as nn\n",
        "\n",
        "model = nn.Sequential(\n",
        "    nn.Conv2d(1, 8, kernel_size=(10,10), padding=1),\n",
        "    nn.BatchNorm2d(8),\n",
        "    nn.ReLU(),\n",
        "    nn.Dropout(0.1),\n",
        "    nn.Conv2d(8, 8, kernel_size=(5,5), padding=1),\n",
        "    nn.BatchNorm2d(8),\n",
        "    nn.ReLU(),\n",
        "    nn.MaxPool2d(2),\n",
        "    nn.Conv2d(8, 8, kernel_size=(3,3), padding=1),\n",
        "    nn.BatchNorm2d(8),\n",
        "    nn.ReLU(),\n",
        "    nn.Conv2d(8, 8, kernel_size=(3,3), padding = 1),\n",
        "    nn.BatchNorm2d(8),\n",
        "    nn.ReLU(),\n",
        "    nn.Conv2d(8, 8, kernel_size=(3,3), padding = 1),\n",
        "    nn.BatchNorm2d(8),\n",
        "    nn.ReLU(),\n",
        "    nn.MaxPool2d(2),\n",
        "    nn.Flatten(),\n",
        "    nn.Linear(128, 64),\n",
        "    nn.ReLU(),\n",
        "    nn.Linear(64, 10)\n",
        "    # PyTorch implementation of cross-entropy loss includes softmax layer\n",
        ")"
      ]
    },
    {
      "cell_type": "code",
      "execution_count": 187,
      "metadata": {},
      "outputs": [
        {
          "name": "stdout",
          "output_type": "stream",
          "text": [
            "torch.Size([8, 1, 10, 10])\n",
            "torch.Size([8])\n",
            "torch.Size([8])\n",
            "torch.Size([8])\n",
            "torch.Size([8, 8, 5, 5])\n",
            "torch.Size([8])\n",
            "torch.Size([8])\n",
            "torch.Size([8])\n",
            "torch.Size([8, 8, 3, 3])\n",
            "torch.Size([8])\n",
            "torch.Size([8])\n",
            "torch.Size([8])\n",
            "torch.Size([8, 8, 3, 3])\n",
            "torch.Size([8])\n",
            "torch.Size([8])\n",
            "torch.Size([8])\n",
            "torch.Size([8, 8, 3, 3])\n",
            "torch.Size([8])\n",
            "torch.Size([8])\n",
            "torch.Size([8])\n",
            "torch.Size([64, 128])\n",
            "torch.Size([64])\n",
            "torch.Size([10, 64])\n",
            "torch.Size([10])\n"
          ]
        }
      ],
      "source": [
        "for p in model.parameters():\n",
        "    print(p.data.shape)"
      ]
    },
    {
      "cell_type": "code",
      "execution_count": 188,
      "metadata": {},
      "outputs": [
        {
          "name": "stdout",
          "output_type": "stream",
          "text": [
            "total params: 13154\n"
          ]
        }
      ],
      "source": [
        "# our model has some # of parameters:\n",
        "count = 0\n",
        "for p in model.parameters():\n",
        "    n_params = np.prod(list(p.data.shape)).item()\n",
        "    count += n_params\n",
        "print(f'total params: {count}')"
      ]
    },
    {
      "cell_type": "code",
      "execution_count": 189,
      "metadata": {},
      "outputs": [],
      "source": [
        "# For a multi-class classification problem\n",
        "import torch.optim as optim\n",
        "criterion = nn.CrossEntropyLoss()\n",
        "optimizer = optim.Adam(model.parameters(), lr=0.001)"
      ]
    },
    {
      "cell_type": "code",
      "execution_count": 190,
      "metadata": {},
      "outputs": [
        {
          "name": "stdout",
          "output_type": "stream",
          "text": [
            "Epoch 1/10:...........\n",
            "\tloss: 0.1963, acc: 0.9410, val loss: 0.0633, val acc: 0.9803\n",
            "Epoch 2/10:...........\n",
            "\tloss: 0.0743, acc: 0.9771, val loss: 0.0504, val acc: 0.9848\n",
            "Epoch 3/10:...........\n",
            "\tloss: 0.0593, acc: 0.9817, val loss: 0.0445, val acc: 0.9868\n",
            "Epoch 4/10:...........\n",
            "\tloss: 0.0498, acc: 0.9842, val loss: 0.0440, val acc: 0.9863\n",
            "Epoch 5/10:...........\n",
            "\tloss: 0.0453, acc: 0.9858, val loss: 0.0394, val acc: 0.9874\n",
            "Epoch 6/10:...........\n",
            "\tloss: 0.0393, acc: 0.9874, val loss: 0.0355, val acc: 0.9877\n",
            "Epoch 7/10:...........\n",
            "\tloss: 0.0383, acc: 0.9875, val loss: 0.0388, val acc: 0.9883\n",
            "Epoch 8/10:...........\n",
            "\tloss: 0.0339, acc: 0.9890, val loss: 0.0415, val acc: 0.9872\n",
            "Epoch 9/10:...........\n",
            "\tloss: 0.0312, acc: 0.9899, val loss: 0.0360, val acc: 0.9880\n",
            "Epoch 10/10:...........\n",
            "\tloss: 0.0291, acc: 0.9902, val loss: 0.0314, val acc: 0.9899\n"
          ]
        }
      ],
      "source": [
        "# Train the model for 10 epochs, iterating on the data in batches\n",
        "n_epochs = 10\n",
        "\n",
        "# store metrics\n",
        "training_accuracy_history = np.zeros([n_epochs, 1])\n",
        "training_loss_history = np.zeros([n_epochs, 1])\n",
        "validation_accuracy_history = np.zeros([n_epochs, 1])\n",
        "validation_loss_history = np.zeros([n_epochs, 1])\n",
        "\n",
        "for epoch in range(n_epochs):\n",
        "    print(f'Epoch {epoch+1}/10:', end='')\n",
        "    train_total = 0\n",
        "    train_correct = 0\n",
        "    # train\n",
        "    model.train()\n",
        "    for i, data in enumerate(training_data_loader):\n",
        "        images, labels = data\n",
        "        optimizer.zero_grad()\n",
        "        # forward pass\n",
        "        output = model(images)\n",
        "        # calculate categorical cross entropy loss\n",
        "        loss = criterion(output, labels)\n",
        "        # backward pass\n",
        "        loss.backward()\n",
        "        optimizer.step()\n",
        "        \n",
        "        # track training accuracy\n",
        "        _, predicted = torch.max(output.data, 1)\n",
        "        train_total += labels.size(0)\n",
        "        train_correct += (predicted == labels).sum().item()\n",
        "        # track training loss\n",
        "        training_loss_history[epoch] += loss.item()\n",
        "        # progress update after 180 batches (~1/10 epoch for batch size 32)\n",
        "        if i % 180 == 0: print('.',end='')\n",
        "    training_loss_history[epoch] /= len(training_data_loader)\n",
        "    training_accuracy_history[epoch] = train_correct / train_total\n",
        "    print(f'\\n\\tloss: {training_loss_history[epoch,0]:0.4f}, acc: {training_accuracy_history[epoch,0]:0.4f}',end='')\n",
        "        \n",
        "    # validate\n",
        "    test_total = 0\n",
        "    test_correct = 0\n",
        "    with torch.no_grad():\n",
        "        model.eval()\n",
        "        for i, data in enumerate(test_data_loader):\n",
        "            images, labels = data\n",
        "            # forward pass\n",
        "            output = model(images)\n",
        "            # find accuracy\n",
        "            _, predicted = torch.max(output.data, 1)\n",
        "            test_total += labels.size(0)\n",
        "            test_correct += (predicted == labels).sum().item()\n",
        "            # find loss\n",
        "            loss = criterion(output, labels)\n",
        "            validation_loss_history[epoch] += loss.item()\n",
        "        validation_loss_history[epoch] /= len(test_data_loader)\n",
        "        validation_accuracy_history[epoch] = test_correct / test_total\n",
        "    print(f', val loss: {validation_loss_history[epoch,0]:0.4f}, val acc: {validation_accuracy_history[epoch,0]:0.4f}')"
      ]
    }
  ],
  "metadata": {
    "colab": {
      "include_colab_link": true,
      "name": "set4_prob3.ipynb",
      "provenance": []
    },
    "kernelspec": {
      "display_name": "Python 3",
      "language": "python",
      "name": "python3"
    },
    "language_info": {
      "codemirror_mode": {
        "name": "ipython",
        "version": 3
      },
      "file_extension": ".py",
      "mimetype": "text/x-python",
      "name": "python",
      "nbconvert_exporter": "python",
      "pygments_lexer": "ipython3",
      "version": "3.11.6"
    }
  },
  "nbformat": 4,
  "nbformat_minor": 0
}
