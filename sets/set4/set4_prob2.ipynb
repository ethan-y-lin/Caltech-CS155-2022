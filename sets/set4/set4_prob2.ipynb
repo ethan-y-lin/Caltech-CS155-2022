{
  "cells": [
    {
      "cell_type": "markdown",
      "metadata": {
        "colab_type": "text",
        "id": "view-in-github"
      },
      "source": [
        "<a href=\"https://colab.research.google.com/github/charlesincharge/Caltech-CS155-2022/blob/main/sets/set4/set4_prob2.ipynb\" target=\"_parent\"><img src=\"https://colab.research.google.com/assets/colab-badge.svg\" alt=\"Open In Colab\"/></a>"
      ]
    },
    {
      "cell_type": "markdown",
      "metadata": {
        "id": "pr1CNnzrP3-M"
      },
      "source": [
        "# Problem 2 Sample Code\n",
        "\n",
        "This sample code is meant as a guide on how to use PyTorch and how to use the relevant model layers. This not a guide on how to design a network and the network in this example is intentionally designed to have poor performace."
      ]
    },
    {
      "cell_type": "code",
      "execution_count": 1,
      "metadata": {
        "id": "J6NAvE5FP3-S"
      },
      "outputs": [],
      "source": [
        "import numpy as np\n",
        "import matplotlib.pyplot as plt\n",
        "%matplotlib inline\n",
        "\n",
        "import torch\n",
        "import torch.nn as nn\n",
        "import torch.nn.functional as F\n",
        "from torchvision import datasets, transforms"
      ]
    },
    {
      "cell_type": "markdown",
      "metadata": {
        "id": "RfN-CHGlP3-U"
      },
      "source": [
        "## Loading MNIST\n",
        "The `torchvision` module contains links to many standard datasets. We can load the MNIST dataset into a `Dataset` object as follows:"
      ]
    },
    {
      "cell_type": "code",
      "execution_count": 2,
      "metadata": {
        "colab": {
          "referenced_widgets": [
            "2a6dd662b3d842b484c87e529fd92cdc",
            "095a1b1125ef42d49a970d4c719a4253",
            "c62cccb1a32145378900ca1f909c5ba0",
            "ba9af76f1b7c4010988c079ed0754f23"
          ]
        },
        "id": "usuoqhUjP3-V",
        "outputId": "dae3f5a9-a5c4-4d38-9f20-9d791390afb3"
      },
      "outputs": [
        {
          "name": "stdout",
          "output_type": "stream",
          "text": [
            "Downloading http://yann.lecun.com/exdb/mnist/train-images-idx3-ubyte.gz\n",
            "Failed to download (trying next):\n",
            "HTTP Error 403: Forbidden\n",
            "\n",
            "Downloading https://ossci-datasets.s3.amazonaws.com/mnist/train-images-idx3-ubyte.gz\n",
            "Downloading https://ossci-datasets.s3.amazonaws.com/mnist/train-images-idx3-ubyte.gz to ./data/MNIST/raw/train-images-idx3-ubyte.gz\n"
          ]
        },
        {
          "name": "stderr",
          "output_type": "stream",
          "text": [
            "100.0%\n"
          ]
        },
        {
          "name": "stdout",
          "output_type": "stream",
          "text": [
            "Extracting ./data/MNIST/raw/train-images-idx3-ubyte.gz to ./data/MNIST/raw\n",
            "\n",
            "Downloading http://yann.lecun.com/exdb/mnist/train-labels-idx1-ubyte.gz\n",
            "Failed to download (trying next):\n",
            "HTTP Error 403: Forbidden\n",
            "\n",
            "Downloading https://ossci-datasets.s3.amazonaws.com/mnist/train-labels-idx1-ubyte.gz\n",
            "Downloading https://ossci-datasets.s3.amazonaws.com/mnist/train-labels-idx1-ubyte.gz to ./data/MNIST/raw/train-labels-idx1-ubyte.gz\n"
          ]
        },
        {
          "name": "stderr",
          "output_type": "stream",
          "text": [
            "100.0%\n"
          ]
        },
        {
          "name": "stdout",
          "output_type": "stream",
          "text": [
            "Extracting ./data/MNIST/raw/train-labels-idx1-ubyte.gz to ./data/MNIST/raw\n",
            "\n",
            "Downloading http://yann.lecun.com/exdb/mnist/t10k-images-idx3-ubyte.gz\n",
            "Failed to download (trying next):\n",
            "HTTP Error 403: Forbidden\n",
            "\n",
            "Downloading https://ossci-datasets.s3.amazonaws.com/mnist/t10k-images-idx3-ubyte.gz\n",
            "Downloading https://ossci-datasets.s3.amazonaws.com/mnist/t10k-images-idx3-ubyte.gz to ./data/MNIST/raw/t10k-images-idx3-ubyte.gz\n"
          ]
        },
        {
          "name": "stderr",
          "output_type": "stream",
          "text": [
            "100.0%\n"
          ]
        },
        {
          "name": "stdout",
          "output_type": "stream",
          "text": [
            "Extracting ./data/MNIST/raw/t10k-images-idx3-ubyte.gz to ./data/MNIST/raw\n",
            "\n",
            "Downloading http://yann.lecun.com/exdb/mnist/t10k-labels-idx1-ubyte.gz\n",
            "Failed to download (trying next):\n",
            "HTTP Error 403: Forbidden\n",
            "\n",
            "Downloading https://ossci-datasets.s3.amazonaws.com/mnist/t10k-labels-idx1-ubyte.gz\n",
            "Downloading https://ossci-datasets.s3.amazonaws.com/mnist/t10k-labels-idx1-ubyte.gz to ./data/MNIST/raw/t10k-labels-idx1-ubyte.gz\n"
          ]
        },
        {
          "name": "stderr",
          "output_type": "stream",
          "text": [
            "100.0%"
          ]
        },
        {
          "name": "stdout",
          "output_type": "stream",
          "text": [
            "Extracting ./data/MNIST/raw/t10k-labels-idx1-ubyte.gz to ./data/MNIST/raw\n",
            "\n"
          ]
        },
        {
          "name": "stderr",
          "output_type": "stream",
          "text": [
            "\n"
          ]
        }
      ],
      "source": [
        "train_dataset = datasets.MNIST('./data', train=True, download=True,  # Downloads into a directory ../data\n",
        "                               transform=transforms.ToTensor())\n",
        "test_dataset = datasets.MNIST('./data', train=False, download=False,  # No need to download again\n",
        "                              transform=transforms.ToTensor())"
      ]
    },
    {
      "cell_type": "markdown",
      "metadata": {
        "id": "5_JxT8_wP3-X"
      },
      "source": [
        "The `Dataset` object is an iterable where each element is a tuple of (input `Tensor`, target):"
      ]
    },
    {
      "cell_type": "code",
      "execution_count": 15,
      "metadata": {
        "id": "bSQJEepxP3-X",
        "outputId": "26a6606e-cd6b-46c0-b66d-4c49e1b1b6a4"
      },
      "outputs": [
        {
          "name": "stdout",
          "output_type": "stream",
          "text": [
            "60000 <class 'torch.Tensor'> <class 'int'>\n",
            "torch.Size([1, 28, 28])\n"
          ]
        }
      ],
      "source": [
        "print(len(train_dataset), type(train_dataset[0][0]), type(train_dataset[0][1]))\n",
        "print(train_dataset[5][0].shape)"
      ]
    },
    {
      "cell_type": "markdown",
      "metadata": {},
      "source": [
        "Problem B: The Data"
      ]
    },
    {
      "cell_type": "code",
      "execution_count": 18,
      "metadata": {},
      "outputs": [
        {
          "name": "stdout",
          "output_type": "stream",
          "text": [
            "Height:  28\n",
            "Width:  28\n",
            "Number of training images:  60000\n",
            "Number of testing images:  10000\n",
            "Num pixels 784\n"
          ]
        }
      ],
      "source": [
        "# What are the height and width of the images?\n",
        "print(\"Height: \", train_dataset[0][0].shape[1])\n",
        "print(\"Width: \", train_dataset[0][0].shape[2])\n",
        "print(\"Number of training images: \", len(train_dataset))\n",
        "print(\"Number of testing images: \", len(test_dataset))\n",
        "print(\"Num pixels\", 28*28)"
      ]
    },
    {
      "cell_type": "markdown",
      "metadata": {
        "id": "pese0tz1P3-Y"
      },
      "source": [
        "We can convert images to numpy arrays and plot them with matplotlib:"
      ]
    },
    {
      "cell_type": "code",
      "execution_count": 4,
      "metadata": {
        "id": "m1NDW1E5P3-Z",
        "outputId": "a5ef5649-d7af-474b-9b12-9c76661e18a4"
      },
      "outputs": [
        {
          "data": {
            "text/plain": [
              "<matplotlib.image.AxesImage at 0x177e8cad0>"
            ]
          },
          "execution_count": 4,
          "metadata": {},
          "output_type": "execute_result"
        },
        {
          "data": {
            "image/png": "[encoded data removed]",
            "text/plain": [
              "<Figure size 640x480 with 1 Axes>"
            ]
          },
          "metadata": {},
          "output_type": "display_data"
        }
      ],
      "source": [
        "plt.imshow(train_dataset[0][0][0].numpy(), cmap='gray')"
      ]
    },
    {
      "cell_type": "markdown",
      "metadata": {
        "id": "vbd1qES6P3-a"
      },
      "source": [
        "## Network Definition\n",
        "Let's instantiate a model and take a look at the layers."
      ]
    },
    {
      "cell_type": "code",
      "execution_count": 304,
      "metadata": {
        "id": "3UveM-FRP3-a",
        "outputId": "628f60b8-5770-45d6-b654-20120a3220cb",
        "scrolled": false
      },
      "outputs": [
        {
          "name": "stdout",
          "output_type": "stream",
          "text": [
            "Sequential(\n",
            "  (0): Flatten(start_dim=1, end_dim=-1)\n",
            "  (1): Linear(in_features=784, out_features=100, bias=True)\n",
            "  (2): ReLU()\n",
            "  (3): Dropout(p=0.1, inplace=False)\n",
            "  (4): Linear(in_features=100, out_features=10, bias=True)\n",
            ")\n"
          ]
        }
      ],
      "source": [
        "model = nn.Sequential(\n",
        "    # In problem 2, we don't use the 2D structure of an image at all. Our network\n",
        "    # takes in a flat vector of the pixel values as input.\n",
        "    nn.Flatten(),  \n",
        "    nn.Linear(784, 100),\n",
        "    nn.ReLU(),\n",
        "    nn.Dropout(0.1),\n",
        "    # nn.Linear(80, 20),\n",
        "    # nn.ReLU(),\n",
        "    # nn.Dropout(0.15),\n",
        "    nn.Linear(100, 10),\n",
        ")\n",
        "print(model)"
      ]
    },
    {
      "cell_type": "markdown",
      "metadata": {
        "id": "ill86gZzP3-c"
      },
      "source": [
        "## Training\n",
        "We also choose an optimizer and a loss function."
      ]
    },
    {
      "cell_type": "code",
      "execution_count": 305,
      "metadata": {
        "id": "m33aO-z0P3-c"
      },
      "outputs": [],
      "source": [
        "optimizer = torch.optim.Adam(model.parameters(), lr=0.001)\n",
        "loss_fn = nn.CrossEntropyLoss()"
      ]
    },
    {
      "cell_type": "markdown",
      "metadata": {
        "id": "p-wLZUbBP3-d"
      },
      "source": [
        "We could write our training procedure manually and directly index the `Dataset` objects, but the `DataLoader` object conveniently creates an iterable for automatically creating random minibatches:"
      ]
    },
    {
      "cell_type": "code",
      "execution_count": 306,
      "metadata": {
        "id": "rlDT48O9P3-d"
      },
      "outputs": [],
      "source": [
        "train_loader = torch.utils.data.DataLoader(train_dataset, batch_size=64, shuffle=True)\n",
        "test_loader = torch.utils.data.DataLoader(test_dataset, batch_size=64, shuffle=True) "
      ]
    },
    {
      "cell_type": "markdown",
      "metadata": {
        "id": "JQlljBg4P3-e"
      },
      "source": [
        "We now write our backpropagation loop, training for 10 epochs."
      ]
    },
    {
      "cell_type": "code",
      "execution_count": 307,
      "metadata": {
        "id": "NW7wJUnoP3-e",
        "outputId": "093c6b92-9e40-4bdc-ceeb-b77b73e7c873"
      },
      "outputs": [
        {
          "name": "stdout",
          "output_type": "stream",
          "text": [
            "Train Epoch: 1  Loss: 0.3118\n",
            "Test set: Average loss: 0.0031, Accuracy: 9406/10000 (94.0600)\n",
            "train set: Average loss: 0.0031, Accuracy: 56635/60000 (94.3917)\n",
            "Train Epoch: 2  Loss: 0.0366\n",
            "Test set: Average loss: 0.0022, Accuracy: 9592/10000 (95.9200)\n",
            "train set: Average loss: 0.0020, Accuracy: 57804/60000 (96.3400)\n",
            "Train Epoch: 3  Loss: 0.0181\n",
            "Test set: Average loss: 0.0018, Accuracy: 9662/10000 (96.6200)\n",
            "train set: Average loss: 0.0015, Accuracy: 58323/60000 (97.2050)\n",
            "Train Epoch: 4  Loss: 0.0144\n",
            "Test set: Average loss: 0.0017, Accuracy: 9687/10000 (96.8700)\n",
            "train set: Average loss: 0.0013, Accuracy: 58612/60000 (97.6867)\n",
            "Train Epoch: 5  Loss: 0.1360\n",
            "Test set: Average loss: 0.0014, Accuracy: 9724/10000 (97.2400)\n",
            "train set: Average loss: 0.0010, Accuracy: 58910/60000 (98.1833)\n",
            "Train Epoch: 6  Loss: 0.1280\n",
            "Test set: Average loss: 0.0014, Accuracy: 9707/10000 (97.0700)\n",
            "train set: Average loss: 0.0009, Accuracy: 59010/60000 (98.3500)\n",
            "Train Epoch: 7  Loss: 0.2441\n",
            "Test set: Average loss: 0.0012, Accuracy: 9754/10000 (97.5400)\n",
            "train set: Average loss: 0.0007, Accuracy: 59270/60000 (98.7833)\n",
            "Train Epoch: 8  Loss: 0.0132\n",
            "Test set: Average loss: 0.0012, Accuracy: 9770/10000 (97.7000)\n",
            "train set: Average loss: 0.0006, Accuracy: 59338/60000 (98.8967)\n",
            "Train Epoch: 9  Loss: 0.0414\n",
            "Test set: Average loss: 0.0011, Accuracy: 9782/10000 (97.8200)\n",
            "train set: Average loss: 0.0005, Accuracy: 59463/60000 (99.1050)\n",
            "Train Epoch: 10  Loss: 0.2433\n",
            "Test set: Average loss: 0.0011, Accuracy: 9776/10000 (97.7600)\n",
            "train set: Average loss: 0.0004, Accuracy: 59560/60000 (99.2667)\n",
            "Train Epoch: 11  Loss: 0.0699\n",
            "Test set: Average loss: 0.0011, Accuracy: 9780/10000 (97.8000)\n",
            "train set: Average loss: 0.0004, Accuracy: 59582/60000 (99.3033)\n",
            "Train Epoch: 12  Loss: 0.0311\n",
            "Test set: Average loss: 0.0011, Accuracy: 9774/10000 (97.7400)\n",
            "train set: Average loss: 0.0003, Accuracy: 59696/60000 (99.4933)\n",
            "Train Epoch: 13  Loss: 0.0041\n",
            "Test set: Average loss: 0.0012, Accuracy: 9771/10000 (97.7100)\n",
            "train set: Average loss: 0.0003, Accuracy: 59677/60000 (99.4617)\n",
            "Train Epoch: 14  Loss: 0.0329\n",
            "Test set: Average loss: 0.0012, Accuracy: 9762/10000 (97.6200)\n",
            "train set: Average loss: 0.0003, Accuracy: 59657/60000 (99.4283)\n",
            "Train Epoch: 15  Loss: 0.0504\n",
            "Test set: Average loss: 0.0011, Accuracy: 9783/10000 (97.8300)\n",
            "train set: Average loss: 0.0002, Accuracy: 59788/60000 (99.6467)\n"
          ]
        }
      ],
      "source": [
        "# Some layers, such as Dropout, behave differently during training\n",
        "n_epochs = 15\n",
        "epochs = range(0, n_epochs)\n",
        "train_losses = []\n",
        "test_losses = []\n",
        "for epoch in range(n_epochs):\n",
        "    model.train()\n",
        "    for batch_idx, (data, target) in enumerate(train_loader):\n",
        "        # Erase accumulated gradients\n",
        "        optimizer.zero_grad()\n",
        "\n",
        "        # Forward pass\n",
        "        output = model(data)\n",
        "\n",
        "        # Calculate loss\n",
        "        loss = loss_fn(output, target)\n",
        "\n",
        "        # Backward pass\n",
        "        loss.backward()\n",
        "        \n",
        "        # Weight update\n",
        "        optimizer.step()\n",
        "\n",
        "    # Track loss each epoch\n",
        "    print('Train Epoch: %d  Loss: %.4f' % (epoch + 1,  loss.item()))\n",
        "    # Putting layers like Dropout into evaluation mode\n",
        "    model.eval()\n",
        "\n",
        "    test_loss = 0\n",
        "    correct = 0\n",
        "\n",
        "    # Turning off automatic differentiation\n",
        "    with torch.no_grad():\n",
        "        for data, target in test_loader:\n",
        "            output = model(data)\n",
        "            test_loss += loss_fn(output, target).item()  # Sum up batch loss\n",
        "            pred = output.argmax(dim=1, keepdim=True)  # Get the index of the max class score\n",
        "            correct += pred.eq(target.view_as(pred)).sum().item()\n",
        "\n",
        "    test_loss /= len(test_loader.dataset)\n",
        "    print('Test set: Average loss: %.4f, Accuracy: %d/%d (%.4f)' %\n",
        "        (test_loss, correct, len(test_loader.dataset),\n",
        "        100. * correct / len(test_loader.dataset)))\n",
        "    test_losses.append(test_loss)\n",
        "    train_loss = 0\n",
        "    correct = 0\n",
        "    # Turning off automatic differentiation\n",
        "    with torch.no_grad():\n",
        "        for data, target in train_loader:\n",
        "            output = model(data)\n",
        "            train_loss += loss_fn(output, target).item()  # Sum up batch loss\n",
        "            pred = output.argmax(dim=1, keepdim=True)  # Get the index of the max class score\n",
        "            correct += pred.eq(target.view_as(pred)).sum().item()\n",
        "\n",
        "    train_loss /= len(train_loader.dataset)\n",
        "    train_losses.append(train_loss)\n",
        "\n",
        "    print('train set: Average loss: %.4f, Accuracy: %d/%d (%.4f)' %\n",
        "        (train_loss, correct, len(train_loader.dataset),\n",
        "        100. * correct / len(train_loader.dataset)))"
      ]
    },
    {
      "cell_type": "markdown",
      "metadata": {
        "id": "BSoGOTfHP3-f"
      },
      "source": [
        "## Testing\n",
        "We can perform forward passes through the network without saving gradients."
      ]
    },
    {
      "cell_type": "code",
      "execution_count": 310,
      "metadata": {
        "id": "AbZu26TWP3-f",
        "outputId": "2744f5ae-f398-4692-f73e-e670dc806508"
      },
      "outputs": [
        {
          "name": "stdout",
          "output_type": "stream",
          "text": [
            "Test set: Average loss: 0.0011, Accuracy: 9783/10000 (97.8300)\n",
            "train set: Average loss: 0.0002, Accuracy: 59788/60000 (99.6467)\n"
          ]
        }
      ],
      "source": [
        "# plt.plot(epochs, test_losses, label=\"test loss\")\n",
        "# plt.plot(epochs, train_losses, label=\"train loss\")\n",
        "# plt.legend()\n",
        "# plt.xlabel(\"num epochs\")\n",
        "# plt.ylabel(\"Loss\")\n",
        "# model.eval()\n",
        "\n",
        "test_loss = 0\n",
        "correct = 0\n",
        "\n",
        "# Turning off automatic differentiation\n",
        "with torch.no_grad():\n",
        "    for data, target in test_loader:\n",
        "        output = model(data)\n",
        "        test_loss += loss_fn(output, target).item()  # Sum up batch loss\n",
        "        pred = output.argmax(dim=1, keepdim=True)  # Get the index of the max class score\n",
        "        correct += pred.eq(target.view_as(pred)).sum().item()\n",
        "\n",
        "test_loss /= len(test_loader.dataset)\n",
        "print('Test set: Average loss: %.4f, Accuracy: %d/%d (%.4f)' %\n",
        "    (test_loss, correct, len(test_loader.dataset),\n",
        "    100. * correct / len(test_loader.dataset)))\n",
        "\n",
        "train_loss = 0\n",
        "correct = 0\n",
        "# Turning off automatic differentiation\n",
        "with torch.no_grad():\n",
        "    for data, target in train_loader:\n",
        "        output = model(data)\n",
        "        train_loss += loss_fn(output, target).item()  # Sum up batch loss\n",
        "        pred = output.argmax(dim=1, keepdim=True)  # Get the index of the max class score\n",
        "        correct += pred.eq(target.view_as(pred)).sum().item()\n",
        "\n",
        "train_loss /= len(train_loader.dataset)\n",
        "print('train set: Average loss: %.4f, Accuracy: %d/%d (%.4f)' %\n",
        "    (train_loss, correct, len(train_loader.dataset),\n",
        "    100. * correct / len(train_loader.dataset)))\n",
        "\n"
      ]
    },
    {
      "cell_type": "markdown",
      "metadata": {},
      "source": [
        "## Problem D: Modeling Part 2\n",
        "Use at most 200 hidden units and build a model with at least 2 hidden layers to achieve at least 0.98% accuracy."
      ]
    },
    {
      "cell_type": "markdown",
      "metadata": {},
      "source": [
        "## Network Definition"
      ]
    },
    {
      "cell_type": "code",
      "execution_count": 350,
      "metadata": {
        "id": "lgt53_08P3-g"
      },
      "outputs": [],
      "source": [
        "model = nn.Sequential(\n",
        "    nn.Flatten(),\n",
        "    nn.Linear(784, 190),\n",
        "    nn.ReLU(),\n",
        "    nn.Dropout(0.1),\n",
        "    nn.Linear(190, 10),\n",
        "    nn.ReLU(),\n",
        "    nn.Linear(10, 10)\n",
        ")"
      ]
    },
    {
      "cell_type": "markdown",
      "metadata": {},
      "source": [
        "## Training"
      ]
    },
    {
      "cell_type": "code",
      "execution_count": 351,
      "metadata": {},
      "outputs": [],
      "source": [
        "optimizer = torch.optim.Adam(model.parameters(), lr=0.001)\n",
        "loss_fn = nn.CrossEntropyLoss()\n",
        "\n",
        "train_loader = torch.utils.data.DataLoader(train_dataset, batch_size=64, shuffle=True)\n",
        "test_loader = torch.utils.data.DataLoader(test_dataset, batch_size=64, shuffle=True) "
      ]
    },
    {
      "cell_type": "code",
      "execution_count": 353,
      "metadata": {},
      "outputs": [
        {
          "name": "stdout",
          "output_type": "stream",
          "text": [
            "Train Epoch: 1  Loss: 0.1409\n",
            "Train Epoch: 2  Loss: 0.1056\n",
            "Train Epoch: 3  Loss: 0.3848\n",
            "Train Epoch: 4  Loss: 0.0174\n",
            "Train Epoch: 5  Loss: 0.0333\n",
            "Train Epoch: 6  Loss: 0.1100\n",
            "Train Epoch: 7  Loss: 0.1542\n",
            "Train Epoch: 8  Loss: 0.0053\n",
            "Train Epoch: 9  Loss: 0.0815\n",
            "Train Epoch: 10  Loss: 0.0297\n",
            "Train Epoch: 11  Loss: 0.0160\n",
            "Train Epoch: 12  Loss: 0.0097\n"
          ]
        }
      ],
      "source": [
        "n_epochs = 12\n",
        "\n",
        "for epoch in range(n_epochs):\n",
        "    model.train()\n",
        "    for batch_idx, (data, target) in enumerate(train_loader):\n",
        "\n",
        "        # optimize gradients\n",
        "        optimizer.zero_grad()\n",
        "\n",
        "        # forward pass\n",
        "        output = model(data)\n",
        "\n",
        "        # calculate loss\n",
        "        loss = loss_fn(output, target)\n",
        "\n",
        "        # backward pass \n",
        "        loss.backward()\n",
        "\n",
        "        # gradient descent\n",
        "        optimizer.step()\n",
        "    print('Train Epoch: %d  Loss: %.4f' % (epoch + 1,  loss.item()))"
      ]
    },
    {
      "cell_type": "code",
      "execution_count": 354,
      "metadata": {},
      "outputs": [
        {
          "name": "stdout",
          "output_type": "stream",
          "text": [
            "Train set: Average loss: 13.4426, Accuracy: 59756/60000 (99.5933)\n",
            "test set: Average loss: 11.2547, Accuracy: 9800/10000 (98.0000)\n"
          ]
        }
      ],
      "source": [
        "model.eval()\n",
        "train_loss = 0\n",
        "correct = 0 \n",
        "\n",
        "for data, target in train_loader:\n",
        "    output = model(data)\n",
        "    loss = loss_fn(output, target)\n",
        "    train_loss += loss.item()\n",
        "    pred = output.argmax(dim=1, keepdim=True)\n",
        "    correct += pred.eq(target.view_as(pred)).sum().item() \n",
        "\n",
        "print('Train set: Average loss: %.4f, Accuracy: %d/%d (%.4f)' %\n",
        "    (train_loss, correct, len(train_loader.dataset),\n",
        "    100. * correct / len(train_loader.dataset)))\n",
        "    \n",
        "test_loss = 0\n",
        "correct = 0 \n",
        "\n",
        "for data, target in test_loader:\n",
        "    output = model(data)\n",
        "    loss = loss_fn(output, target)\n",
        "    test_loss += loss.item()\n",
        "    pred = output.argmax(dim=1, keepdim=True)\n",
        "    correct += pred.eq(target.view_as(pred)).sum().item() \n",
        "\n",
        "print('test set: Average loss: %.4f, Accuracy: %d/%d (%.4f)' %\n",
        "    (test_loss, correct, len(test_loader.dataset),\n",
        "    100. * correct / len(test_loader.dataset)))"
      ]
    },
    {
      "cell_type": "markdown",
      "metadata": {},
      "source": [
        "## Problem E: Modeling Part 3\n",
        "\n",
        "Use 1000 hidden units and at least 3 hidden layers to get accuracy of at least 0.983"
      ]
    },
    {
      "cell_type": "code",
      "execution_count": 416,
      "metadata": {},
      "outputs": [],
      "source": [
        "model = nn.Sequential(\n",
        "    nn.Flatten(),\n",
        "    nn.Linear(784, 500),\n",
        "    nn.ReLU(),\n",
        "    nn.Dropout(0.1),\n",
        "    nn.Linear(500, 300),\n",
        "    nn.ReLU(),\n",
        "    nn.Dropout(0.1),\n",
        "    nn.Linear(300, 200),\n",
        "    nn.ReLU(),\n",
        "    nn.Linear(200, 10)\n",
        ")"
      ]
    },
    {
      "cell_type": "code",
      "execution_count": 417,
      "metadata": {},
      "outputs": [],
      "source": [
        "optimizer = torch.optim.Adam(model.parameters(), lr=0.001)\n",
        "loss_fn = nn.CrossEntropyLoss()\n",
        "\n",
        "train_loader = torch.utils.data.DataLoader(train_dataset, batch_size=72, shuffle=True)\n",
        "test_loader = torch.utils.data.DataLoader(test_dataset, batch_size=72, shuffle=True) "
      ]
    },
    {
      "cell_type": "code",
      "execution_count": 418,
      "metadata": {},
      "outputs": [
        {
          "name": "stdout",
          "output_type": "stream",
          "text": [
            "Test set: Average loss: 0.0016, Accuracy: 9638/10000 (96.3800)\n",
            "train set: Average loss: 0.0014, Accuracy: 58204/60000 (97.0067)\n",
            "Train Epoch: 1  Loss: 0.0801\n",
            "Test set: Average loss: 0.0011, Accuracy: 9761/10000 (97.6100)\n",
            "train set: Average loss: 0.0008, Accuracy: 58929/60000 (98.2150)\n",
            "Train Epoch: 2  Loss: 0.0249\n",
            "Test set: Average loss: 0.0013, Accuracy: 9723/10000 (97.2300)\n",
            "train set: Average loss: 0.0008, Accuracy: 58967/60000 (98.2783)\n",
            "Train Epoch: 3  Loss: 0.0579\n",
            "Test set: Average loss: 0.0011, Accuracy: 9779/10000 (97.7900)\n",
            "train set: Average loss: 0.0004, Accuracy: 59413/60000 (99.0217)\n",
            "Train Epoch: 4  Loss: 0.0257\n",
            "Test set: Average loss: 0.0010, Accuracy: 9800/10000 (98.0000)\n",
            "train set: Average loss: 0.0004, Accuracy: 59417/60000 (99.0283)\n",
            "Train Epoch: 5  Loss: 0.1275\n",
            "Test set: Average loss: 0.0010, Accuracy: 9800/10000 (98.0000)\n",
            "train set: Average loss: 0.0004, Accuracy: 59508/60000 (99.1800)\n",
            "Train Epoch: 6  Loss: 0.0077\n",
            "Test set: Average loss: 0.0009, Accuracy: 9823/10000 (98.2300)\n",
            "train set: Average loss: 0.0003, Accuracy: 59620/60000 (99.3667)\n",
            "Train Epoch: 7  Loss: 0.0018\n",
            "Test set: Average loss: 0.0011, Accuracy: 9781/10000 (97.8100)\n",
            "train set: Average loss: 0.0003, Accuracy: 59609/60000 (99.3483)\n",
            "Train Epoch: 8  Loss: 0.0106\n",
            "Test set: Average loss: 0.0011, Accuracy: 9811/10000 (98.1100)\n",
            "train set: Average loss: 0.0002, Accuracy: 59679/60000 (99.4650)\n",
            "Train Epoch: 9  Loss: 0.0391\n",
            "Test set: Average loss: 0.0011, Accuracy: 9802/10000 (98.0200)\n",
            "train set: Average loss: 0.0002, Accuracy: 59741/60000 (99.5683)\n",
            "Train Epoch: 10  Loss: 0.0275\n",
            "Test set: Average loss: 0.0009, Accuracy: 9846/10000 (98.4600)\n",
            "train set: Average loss: 0.0001, Accuracy: 59839/60000 (99.7317)\n",
            "Train Epoch: 11  Loss: 0.0006\n",
            "Test set: Average loss: 0.0010, Accuracy: 9816/10000 (98.1600)\n",
            "train set: Average loss: 0.0001, Accuracy: 59827/60000 (99.7117)\n",
            "Train Epoch: 12  Loss: 0.0103\n",
            "Test set: Average loss: 0.0011, Accuracy: 9829/10000 (98.2900)\n",
            "train set: Average loss: 0.0001, Accuracy: 59832/60000 (99.7200)\n",
            "Train Epoch: 13  Loss: 0.0128\n",
            "Test set: Average loss: 0.0010, Accuracy: 9826/10000 (98.2600)\n",
            "train set: Average loss: 0.0001, Accuracy: 59795/60000 (99.6583)\n",
            "Train Epoch: 14  Loss: 0.0279\n",
            "Test set: Average loss: 0.0011, Accuracy: 9824/10000 (98.2400)\n",
            "train set: Average loss: 0.0002, Accuracy: 59767/60000 (99.6117)\n",
            "Train Epoch: 15  Loss: 0.0007\n",
            "Test set: Average loss: 0.0010, Accuracy: 9834/10000 (98.3400)\n",
            "train set: Average loss: 0.0001, Accuracy: 59849/60000 (99.7483)\n",
            "Train Epoch: 16  Loss: 0.0000\n",
            "Test set: Average loss: 0.0012, Accuracy: 9805/10000 (98.0500)\n",
            "train set: Average loss: 0.0001, Accuracy: 59875/60000 (99.7917)\n",
            "Train Epoch: 17  Loss: 0.0109\n",
            "Test set: Average loss: 0.0012, Accuracy: 9809/10000 (98.0900)\n",
            "train set: Average loss: 0.0001, Accuracy: 59809/60000 (99.6817)\n",
            "Train Epoch: 18  Loss: 0.0001\n",
            "Test set: Average loss: 0.0011, Accuracy: 9839/10000 (98.3900)\n",
            "train set: Average loss: 0.0001, Accuracy: 59932/60000 (99.8867)\n",
            "Train Epoch: 19  Loss: 0.0001\n",
            "Test set: Average loss: 0.0011, Accuracy: 9846/10000 (98.4600)\n",
            "train set: Average loss: 0.0001, Accuracy: 59905/60000 (99.8417)\n",
            "Train Epoch: 20  Loss: 0.0163\n",
            "Test set: Average loss: 0.0011, Accuracy: 9833/10000 (98.3300)\n",
            "train set: Average loss: 0.0001, Accuracy: 59875/60000 (99.7917)\n",
            "Train Epoch: 21  Loss: 0.0644\n",
            "Test set: Average loss: 0.0013, Accuracy: 9834/10000 (98.3400)\n",
            "train set: Average loss: 0.0001, Accuracy: 59921/60000 (99.8683)\n",
            "Train Epoch: 22  Loss: 0.0012\n"
          ]
        }
      ],
      "source": [
        "train_losses = []\n",
        "test_losses = []\n",
        "\n",
        "n_epochs = 22\n",
        "for epoch in range(n_epochs):\n",
        "    model.train()\n",
        "    for batch_idx, (data, target) in enumerate(train_loader):\n",
        "        # zero grad\n",
        "        optimizer.zero_grad()\n",
        "\n",
        "        #forward pass \n",
        "        output = model(data)\n",
        "\n",
        "        # loss\n",
        "        loss = loss_fn(output, target)\n",
        "\n",
        "        #backward pass\n",
        "        loss.backward()\n",
        "\n",
        "        # step \n",
        "        optimizer.step()\n",
        "    model.eval()\n",
        "\n",
        "\n",
        "    # Turning off automatic differentiation\n",
        "    with torch.no_grad():\n",
        "        test_loss = 0\n",
        "        correct = 0\n",
        "        for data, target in test_loader:\n",
        "            output = model(data)\n",
        "            test_loss += loss_fn(output, target).item()  # Sum up batch loss\n",
        "            pred = output.argmax(dim=1, keepdim=True)  # Get the index of the max class score\n",
        "            correct += pred.eq(target.view_as(pred)).sum().item()\n",
        "\n",
        "        test_loss /= len(test_loader.dataset)\n",
        "        print('Test set: Average loss: %.4f, Accuracy: %d/%d (%.4f)' %\n",
        "            (test_loss, correct, len(test_loader.dataset),\n",
        "            100. * correct / len(test_loader.dataset)))\n",
        "        test_losses.append(test_loss)\n",
        "        train_loss = 0\n",
        "        correct = 0\n",
        "    # Turning off automatic differentiation\n",
        "\n",
        "        for data, target in train_loader:\n",
        "            output = model(data)\n",
        "            train_loss += loss_fn(output, target).item()  # Sum up batch loss\n",
        "            pred = output.argmax(dim=1, keepdim=True)  # Get the index of the max class score\n",
        "            correct += pred.eq(target.view_as(pred)).sum().item()\n",
        "\n",
        "        train_loss /= len(train_loader.dataset)\n",
        "        train_losses.append(train_loss)\n",
        "\n",
        "        print('train set: Average loss: %.4f, Accuracy: %d/%d (%.4f)' %\n",
        "            (train_loss, correct, len(train_loader.dataset),\n",
        "            100. * correct / len(train_loader.dataset)))\n",
        "    print('Train Epoch: %d  Loss: %.4f' % (epoch + 1,  loss.item()))\n"
      ]
    },
    {
      "cell_type": "code",
      "execution_count": 419,
      "metadata": {},
      "outputs": [
        {
          "name": "stdout",
          "output_type": "stream",
          "text": [
            "train set: Average loss: 3.4951, Accuracy: 59921/60000 (99.8683)\n",
            "test set: Average loss: 12.9188, Accuracy: 9834/10000 (98.3400)\n"
          ]
        },
        {
          "data": {
            "image/png": "[encoded data removed]",
            "text/plain": [
              "<Figure size 640x480 with 1 Axes>"
            ]
          },
          "metadata": {},
          "output_type": "display_data"
        }
      ],
      "source": [
        "epochs = range(n_epochs)\n",
        "# Evaluate\n",
        "plt.plot(epochs, test_losses, label=\"test loss\")\n",
        "plt.plot(epochs, train_losses, label=\"train loss\")\n",
        "plt.legend()\n",
        "plt.xlabel(\"num epochs\")\n",
        "plt.ylabel(\"Loss\")\n",
        "train_loss = 0\n",
        "correct = 0\n",
        "with torch.no_grad():\n",
        "    for data, target in train_loader:\n",
        "        output = model(data)\n",
        "        train_loss += loss_fn(output, target).item()\n",
        "        pred = output.argmax(dim = 1, keepdim=True)\n",
        "        correct += pred.eq(target.view_as(pred)).sum().item() \n",
        "    \n",
        "    print('train set: Average loss: %.4f, Accuracy: %d/%d (%.4f)' %\n",
        "    (train_loss, correct, len(train_loader.dataset),\n",
        "    100. * correct / len(train_loader.dataset))) \n",
        "\n",
        "    test_loss = 0\n",
        "    correct = 0\n",
        "    for data, target in test_loader:\n",
        "        output = model(data)\n",
        "        test_loss += loss_fn(output, target).item()\n",
        "        pred = output.argmax(dim = 1, keepdim=True)\n",
        "        correct += pred.eq(target.view_as(pred)).sum().item() \n",
        "    \n",
        "    print('test set: Average loss: %.4f, Accuracy: %d/%d (%.4f)' %\n",
        "    (test_loss, correct, len(test_loader.dataset),\n",
        "    100. * correct / len(test_loader.dataset))) "
      ]
    }
  ],
  "metadata": {
    "colab": {
      "include_colab_link": true,
      "name": "set4_prob2.ipynb",
      "provenance": []
    },
    "kernelspec": {
      "display_name": "Python 3",
      "language": "python",
      "name": "python3"
    },
    "language_info": {
      "codemirror_mode": {
        "name": "ipython",
        "version": 3
      },
      "file_extension": ".py",
      "mimetype": "text/x-python",
      "name": "python",
      "nbconvert_exporter": "python",
      "pygments_lexer": "ipython3",
      "version": "3.11.6"
    }
  },
  "nbformat": 4,
  "nbformat_minor": 0
}
