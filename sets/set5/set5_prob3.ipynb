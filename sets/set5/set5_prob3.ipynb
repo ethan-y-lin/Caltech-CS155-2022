{
  "cells": [
    {
      "cell_type": "markdown",
      "metadata": {
        "colab_type": "text",
        "id": "view-in-github"
      },
      "source": [
        "<a href=\"https://colab.research.google.com/github/charlesincharge/Caltech-CS155-2022/blob/main/sets/set5/set5_prob3.ipynb\" target=\"_parent\"><img src=\"https://colab.research.google.com/assets/colab-badge.svg\" alt=\"Open In Colab\"/></a>"
      ]
    },
    {
      "cell_type": "markdown",
      "metadata": {
        "id": "ViXzmmMF4T9_"
      },
      "source": [
        "## Set 5\n",
        "## 3. Word2Vec \\*\\*Principles**"
      ]
    },
    {
      "cell_type": "markdown",
      "metadata": {},
      "source": [
        "## Problem A\n",
        "\n",
        "The time complexity for a single pair would be O (W * D) because there are W operations (the denominator of softmax) that take D time (the number of derivatives to calculate for each dimension D).\n",
        "\n",
        "## Problem C:\n",
        "If D increases, training loss will decrease. However, a very large D may cause the model to overfit."
      ]
    },
    {
      "cell_type": "markdown",
      "metadata": {
        "id": "HXT_eNcB93ue"
      },
      "source": [
        "#### Preparation"
      ]
    },
    {
      "cell_type": "code",
      "execution_count": 12,
      "metadata": {
        "id": "2wZbd6FeH7cY"
      },
      "outputs": [
        {
          "name": "stdout",
          "output_type": "stream",
          "text": [
            "--2024-08-05 11:30:22--  https://raw.githubusercontent.com/charlesincharge/Caltech-CS155-2022/main/sets/set5/P3CHelpers.py\n",
            "Resolving raw.githubusercontent.com (raw.githubusercontent.com)... 2606:50c0:8001::154, 2606:50c0:8002::154, 2606:50c0:8000::154, ...\n",
            "Connecting to raw.githubusercontent.com (raw.githubusercontent.com)|2606:50c0:8001::154|:443... connected.\n",
            "HTTP request sent, awaiting response... 200 OK\n",
            "Length: 4939 (4.8K) [text/plain]\n",
            "Saving to: ‘P3CHelpers.py’\n",
            "\n",
            "P3CHelpers.py       100%[===================>]   4.82K  --.-KB/s    in 0.005s  \n",
            "\n",
            "2024-08-05 11:30:23 (923 KB/s) - ‘P3CHelpers.py’ saved [4939/4939]\n",
            "\n"
          ]
        }
      ],
      "source": [
        "# download the helper function\n",
        "!wget -O P3CHelpers.py https://raw.githubusercontent.com/charlesincharge/Caltech-CS155-2022/main/sets/set5/P3CHelpers.py"
      ]
    },
    {
      "cell_type": "code",
      "execution_count": 13,
      "metadata": {
        "id": "LmmdYcVUH9D8"
      },
      "outputs": [
        {
          "name": "stdout",
          "output_type": "stream",
          "text": [
            "--2024-08-05 11:30:25--  https://raw.githubusercontent.com/charlesincharge/Caltech-CS155-2022/main/sets/set5/data/dr_seuss.txt\n",
            "Resolving raw.githubusercontent.com (raw.githubusercontent.com)... 2606:50c0:8001::154, 2606:50c0:8002::154, 2606:50c0:8000::154, ...\n",
            "Connecting to raw.githubusercontent.com (raw.githubusercontent.com)|2606:50c0:8001::154|:443... connected.\n",
            "HTTP request sent, awaiting response... 200 OK\n",
            "Length: 8810 (8.6K) [text/plain]\n",
            "Saving to: ‘dr_seuss.txt’\n",
            "\n",
            "dr_seuss.txt        100%[===================>]   8.60K  --.-KB/s    in 0s      \n",
            "\n",
            "2024-08-05 11:30:25 (17.5 MB/s) - ‘dr_seuss.txt’ saved [8810/8810]\n",
            "\n"
          ]
        }
      ],
      "source": [
        "# download the dataset\n",
        "!wget -O dr_seuss.txt https://raw.githubusercontent.com/charlesincharge/Caltech-CS155-2022/main/sets/set5/data/dr_seuss.txt"
      ]
    },
    {
      "cell_type": "code",
      "execution_count": 91,
      "metadata": {
        "id": "Groxh_Rz4QLB"
      },
      "outputs": [],
      "source": [
        "import numpy as np\n",
        "from P3CHelpers import *\n",
        "import torch\n",
        "import torch.nn as nn\n",
        "import torch.optim as optim\n",
        "from torch.utils.data import DataLoader, TensorDataset"
      ]
    },
    {
      "cell_type": "markdown",
      "metadata": {
        "id": "h9aBEkZD5wb2"
      },
      "source": [
        "#### Problem D: \n",
        "Fill in the generate_traindata and find_most_similar_pairs functions."
      ]
    },
    {
      "cell_type": "code",
      "execution_count": 129,
      "metadata": {
        "id": "UChXkrvs7OF0"
      },
      "outputs": [],
      "source": [
        "def get_word_repr(word_to_index, word):\n",
        "    \"\"\"\n",
        "    Returns one-hot-encoded feature representation of the specified word given\n",
        "    a dictionary mapping words to their one-hot-encoded index.\n",
        "\n",
        "    Arguments:\n",
        "        word_to_index: Dictionary mapping words to their corresponding index\n",
        "                       in a one-hot-encoded representation of our corpus.\n",
        "\n",
        "        word:          Word whose feature representation we wish to compute.\n",
        "\n",
        "    Returns:\n",
        "        feature_representation:     Feature representation of the passed-in word.\n",
        "    \"\"\"\n",
        "    unique_words = word_to_index.keys()\n",
        "    # Return a vector that's zero everywhere besides the index corresponding to <word>\n",
        "    feature_representation = np.zeros(len(unique_words))\n",
        "    feature_representation[word_to_index[word]] = 1\n",
        "    return feature_representation    \n",
        "\n",
        "def generate_traindata(word_list, word_to_index, window_size=4):\n",
        "    \"\"\"\n",
        "    Generates training data for Skipgram model.\n",
        "\n",
        "    Arguments:\n",
        "        word_list:     Sequential list of words (strings).\n",
        "        word_to_index: Dictionary mapping words to their corresponding index\n",
        "                       in a one-hot-encoded representation of our corpus.\n",
        "\n",
        "        window_size:   Size of Skipgram window. Defaults to 2 \n",
        "                       (use the default value when running your code).\n",
        "\n",
        "    Returns:\n",
        "        (trainX, trainY):     A pair of matrices (trainX, trainY) containing training \n",
        "                              points (one-hot-encoded vectors) and their corresponding output_word\n",
        "                              (also one-hot-encoded vectors)\n",
        "\n",
        "    \"\"\"\n",
        "    trainX = []\n",
        "    trainY = []\n",
        "\n",
        "    ##############################################################\n",
        "    # TODO: Implement this function, populating trainX and trainY\n",
        "    ##############################################################\n",
        "    for i in range(len(word_list)):\n",
        "      pX = get_word_repr(word_to_index, word_list[i])\n",
        "      for j in range(max(0,i-window_size), min(len(word_list), i+window_size+1)):\n",
        "        pY = get_word_repr(word_to_index, word_list[j])\n",
        "        if i != j:\n",
        "          trainX.append(pX)\n",
        "          trainY.append(pY)\n",
        "    return np.array(trainX), np.array(trainY)"
      ]
    },
    {
      "cell_type": "code",
      "execution_count": 136,
      "metadata": {
        "id": "OoaUtBqd7V-A"
      },
      "outputs": [],
      "source": [
        "def find_most_similar_pairs(filename, num_latent_factors):\n",
        "    \"\"\"\n",
        "    Find the most similar pairs from the word embeddings computed from\n",
        "    a body of text\n",
        "    \n",
        "    Arguments:\n",
        "        filename:           Text file to read and train embeddings from\n",
        "        num_latent_factors: The number of latent factors / the size of the embedding\n",
        "    \"\"\"\n",
        "    # Load in a list of words from the specified file; remove non-alphanumeric characters\n",
        "    # and make all chars lowercase.\n",
        "    sample_text = load_word_list(filename)\n",
        "\n",
        "    # Create word dictionary\n",
        "    word_to_index = generate_onehot_dict(sample_text)\n",
        "    print(\"Textfile contains %s unique words\"%len(word_to_index))\n",
        "    batch_size = 32\n",
        "    # Create training data\n",
        "    trainX, trainY = generate_traindata(sample_text, word_to_index)\n",
        "\n",
        "    dataset = torch.from_numpy(np.array([trainX, trainY])).type(torch.FloatTensor)\n",
        "    dataloader = DataLoader(dataset, batch_size=batch_size, shuffle=True)\n",
        "\n",
        "    ##############################################################\n",
        "    # TODO: 1) Create and train model in Pytorch.      \n",
        "    ##############################################################\n",
        "    # vocab_size = number of unique words in our text file. Will be useful \n",
        "    # when adding layers to your neural network\n",
        "    vocab_size = len(word_to_index)\n",
        "\n",
        "    # initialize model\n",
        "    model = nn.Sequential(\n",
        "        nn.Linear(vocab_size, num_latent_factors),\n",
        "        nn.Linear(num_latent_factors, vocab_size),\n",
        "        nn.Softmax()\n",
        "    )\n",
        "    optimizer = torch.optim.Adam(model.parameters(), lr=0.011)\n",
        "    loss_fn = nn.CrossEntropyLoss() \n",
        "    # train model\n",
        "    \n",
        "    n_epochs = 30 \n",
        "    for epoch in range(n_epochs):\n",
        "        for batch_idx, (data, target) in enumerate(dataloader):\n",
        "            # zero gradients\n",
        "            optimizer.zero_grad()\n",
        "\n",
        "            #forward pass\n",
        "            output = model(data)\n",
        "\n",
        "            # calculate loss\n",
        "            loss = loss_fn(output,target)\n",
        "\n",
        "            # backward pass\n",
        "            loss.backward()\n",
        "\n",
        "            # weight update\n",
        "            optimizer.step()\n",
        "        # print('Train Epoch: %d  Loss: %.4f' % (epoch + 1,  loss.item()))\n",
        "\n",
        "    ##############################################################\n",
        "    # TODO: 2) Extract weights for hidden layer\n",
        "    ##############################################################\n",
        "    \n",
        "    # set weights variable below\n",
        "    weights = model.get_parameter('1.weight').detach()\n",
        "    \n",
        "    # Find and print most similar pairs\n",
        "    similar_pairs = most_similar_pairs(weights, word_to_index)\n",
        "    for pair in similar_pairs[:30]:\n",
        "        print(pair)"
      ]
    },
    {
      "cell_type": "markdown",
      "metadata": {
        "id": "xFBMhtCJ8LyA"
      },
      "source": [
        "### Problem E-H:\n",
        "Run your model on drseuss.txt and answer questions from E through H."
      ]
    },
    {
      "cell_type": "code",
      "execution_count": 137,
      "metadata": {
        "id": "bR7ZicNJ6tyN"
      },
      "outputs": [
        {
          "name": "stdout",
          "output_type": "stream",
          "text": [
            "Textfile contains 308 unique words\n",
            "Pair(hills, cat), Similarity: 0.99971235\n",
            "Pair(cat, hills), Similarity: 0.99971235\n",
            "Pair(more, too), Similarity: 0.9996188\n",
            "Pair(too, more), Similarity: 0.9996188\n",
            "Pair(way, clark), Similarity: 0.9996135\n",
            "Pair(clark, way), Similarity: 0.9996135\n",
            "Pair(hot, too), Similarity: 0.9995866\n",
            "Pair(one, of), Similarity: 0.99954945\n",
            "Pair(of, one), Similarity: 0.99954945\n",
            "Pair(they, one), Similarity: 0.9995408\n",
            "Pair(grow, cat), Similarity: 0.9994992\n",
            "Pair(fat, too), Similarity: 0.9994374\n",
            "Pair(thin, too), Similarity: 0.9994347\n",
            "Pair(wish, on), Similarity: 0.99941385\n",
            "Pair(on, wish), Similarity: 0.99941385\n",
            "Pair(fish, say), Similarity: 0.99939847\n",
            "Pair(say, fish), Similarity: 0.99939847\n",
            "Pair(dog, thin), Similarity: 0.999389\n",
            "Pair(kite, milk), Similarity: 0.9993884\n",
            "Pair(milk, kite), Similarity: 0.9993884\n",
            "Pair(long, zeds), Similarity: 0.99938154\n",
            "Pair(zeds, long), Similarity: 0.99938154\n",
            "Pair(nine, way), Similarity: 0.9993658\n",
            "Pair(many, hand), Similarity: 0.99933267\n",
            "Pair(hand, many), Similarity: 0.99933267\n",
            "Pair(park, thin), Similarity: 0.9993128\n",
            "Pair(yell, open), Similarity: 0.9993113\n",
            "Pair(open, yell), Similarity: 0.9993113\n",
            "Pair(all, house), Similarity: 0.99931103\n",
            "Pair(house, all), Similarity: 0.99931103\n"
          ]
        }
      ],
      "source": [
        "find_most_similar_pairs('dr_seuss.txt', 10)"
      ]
    },
    {
      "cell_type": "code",
      "execution_count": null,
      "metadata": {
        "id": "1OypGn399owV"
      },
      "outputs": [],
      "source": []
    }
  ],
  "metadata": {
    "colab": {
      "collapsed_sections": [
        "h9aBEkZD5wb2"
      ],
      "include_colab_link": true,
      "name": "set5_prob3.ipynb",
      "provenance": []
    },
    "kernelspec": {
      "display_name": "Python 3",
      "name": "python3"
    },
    "language_info": {
      "codemirror_mode": {
        "name": "ipython",
        "version": 3
      },
      "file_extension": ".py",
      "mimetype": "text/x-python",
      "name": "python",
      "nbconvert_exporter": "python",
      "pygments_lexer": "ipython3",
      "version": "3.11.6"
    }
  },
  "nbformat": 4,
  "nbformat_minor": 0
}
